{
 "cells": [
  {
   "cell_type": "code",
   "execution_count": 1,
   "id": "be9e6a89-d4e9-46d1-969a-71b559a9c5dd",
   "metadata": {},
   "outputs": [],
   "source": [
    "%load_ext autoreload\n",
    "%autoreload 2"
   ]
  },
  {
   "cell_type": "code",
   "execution_count": 2,
   "id": "910f328e-56c5-4eb7-9458-9b22df40d62c",
   "metadata": {},
   "outputs": [],
   "source": [
    "import numpy as np\n",
    "import torch\n",
    "import torch as tr\n",
    "from torch import nn\n",
    "import torch.nn.functional as F\n",
    "import torchvision as tv\n",
    "import matplotlib.pyplot as plt\n",
    "\n",
    "%matplotlib inline"
   ]
  },
  {
   "cell_type": "code",
   "execution_count": 14,
   "id": "7504550a-d48c-4886-bc0d-bf3f1b86c4b3",
   "metadata": {},
   "outputs": [],
   "source": [
    "from impl.arch import *\n",
    "from impl.rendering import *\n",
    "from impl.data_source import *\n",
    "from impl.misc import random_pose"
   ]
  },
  {
   "cell_type": "code",
   "execution_count": 4,
   "id": "c386992a-a011-4fc3-9154-2bb1ff5860af",
   "metadata": {},
   "outputs": [],
   "source": [
    "model = VeryTinyNerfModel(config=ModelConfig(\n",
    "    hidden_size=128,\n",
    "    embed_num_pos=6,\n",
    "    embed_num_dir=6,\n",
    "))"
   ]
  },
  {
   "cell_type": "code",
   "execution_count": 5,
   "id": "fb97f9e9-c9ac-452e-974c-809587ae2181",
   "metadata": {},
   "outputs": [],
   "source": [
    "def predict(pose: torch.Tensor):\n",
    "    return nf_render_pose(\n",
    "        model,\n",
    "        height,\n",
    "        width,\n",
    "        focal_length,\n",
    "        pose=pose,\n",
    "        thresh_near=2,\n",
    "        thresh_far=6,\n",
    "        num_samples_per_ray=32,\n",
    "        chunk_size=8096,\n",
    "    )"
   ]
  },
  {
   "cell_type": "code",
   "execution_count": 23,
   "id": "045c2d54-fe63-4448-b43d-a42bbe256ec0",
   "metadata": {},
   "outputs": [],
   "source": [
    "optimizer = torch.optim.Adam(model.parameters(), lr=5e-3)"
   ]
  },
  {
   "cell_type": "code",
   "execution_count": 43,
   "id": "8a1b6f54-28d5-479d-8560-ca3dcbed689f",
   "metadata": {},
   "outputs": [
    {
     "name": "stdout",
     "output_type": "stream",
     "text": [
      "0: 0.0005390935693867505\n",
      "100: 0.0012329461751505733\n",
      "200: 0.0005256360745988786\n",
      "300: 0.0028413021937012672\n",
      "400: 0.0007288064807653427\n",
      "500: 0.0004321889718994498\n",
      "600: 0.0004186077567283064\n",
      "700: 0.0003296404320280999\n",
      "800: 0.00120022043120116\n",
      "900: 0.0011689529055729508\n",
      "Done\n"
     ]
    }
   ],
   "source": [
    "# Train\n",
    "for i in range(1000):\n",
    "    # idx = torch.randint(images.shape[0], (1,)).item()\n",
    "    idx = i % images.shape[0]\n",
    "    target_pose = poses[idx]\n",
    "    # (H, W, 3)\n",
    "    target_image = images[idx]\n",
    "    \n",
    "    # (H, W, 3)\n",
    "    image_predicted = predict(target_pose)\n",
    "\n",
    "    loss = F.mse_loss(image_predicted, target_image)\n",
    "\n",
    "    if i % 100 == 0:\n",
    "        print(f\"{i}: {loss.item()}\") \n",
    "    \n",
    "    optimizer.zero_grad()\n",
    "    loss.backward()\n",
    "    optimizer.step()\n",
    "\n",
    "print(\"Done\")"
   ]
  },
  {
   "cell_type": "code",
   "execution_count": 59,
   "id": "80d91d88-d610-4d13-a831-79cb048e4d6b",
   "metadata": {},
   "outputs": [
    {
     "name": "stdout",
     "output_type": "stream",
     "text": [
      "theta=-49.908721923828125, phi=319.0667724609375\n"
     ]
    },
    {
     "data": {
      "text/plain": [
       "<matplotlib.image.AxesImage at 0x711628ac52b0>"
      ]
     },
     "execution_count": 59,
     "metadata": {},
     "output_type": "execute_result"
    },
    {
     "data": {
      "image/png": "[encoded data removed]",
      "text/plain": [
       "<Figure size 640x480 with 1 Axes>"
      ]
     },
     "metadata": {},
     "output_type": "display_data"
    }
   ],
   "source": [
    "# plt.imshow(predict(poses[43]).detach())\n",
    "plt.imshow(predict(random_pose()).detach())"
   ]
  },
  {
   "cell_type": "code",
   "execution_count": 60,
   "id": "ca3ddd72-e3cb-4c50-bb5d-f730e7aa16ca",
   "metadata": {},
   "outputs": [],
   "source": [
    "torch.save({'model_state': model.state_dict()},'checkpoints/001.chk')"
   ]
  },
  {
   "cell_type": "code",
   "execution_count": null,
   "id": "71f92a98-389f-4d27-a073-a5278e259681",
   "metadata": {},
   "outputs": [],
   "source": [
    "# checkpoint = torch.load('checkpoints/001.chk')\n",
    "# model.load_state_dict(checkpoint['model_state'])"
   ]
  },
  {
   "cell_type": "raw",
   "id": "34db465a-ed5b-45a3-851b-3ef3d3566286",
   "metadata": {},
   "source": [
    "## Todo list\n",
    "\n",
    "make network bigger\n",
    "randomize query points\n",
    "find a useful 3d dataset\n",
    "create 2d images from dataset\n",
    "convert radiance field to 3d point cloud\n",
    "\n",
    "implement hierarchical sampling ?"
   ]
  }
 ],
 "metadata": {
  "kernelspec": {
   "display_name": "Python 3 (ipykernel)",
   "language": "python",
   "name": "python3"
  },
  "language_info": {
   "codemirror_mode": {
    "name": "ipython",
    "version": 3
   },
   "file_extension": ".py",
   "mimetype": "text/x-python",
   "name": "python",
   "nbconvert_exporter": "python",
   "pygments_lexer": "ipython3",
   "version": "3.12.7"
  }
 },
 "nbformat": 4,
 "nbformat_minor": 5
}
