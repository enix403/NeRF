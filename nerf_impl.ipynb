{
 "cells": [
  {
   "cell_type": "code",
   "execution_count": 1,
   "id": "ef8f22c2-aa8b-498b-8dfd-856b0600559f",
   "metadata": {},
   "outputs": [],
   "source": [
    "import numpy as np\n",
    "import torch\n",
    "import torch as tr\n",
    "import torch.nn.functional as F\n",
    "import torchvision as tv\n",
    "import matplotlib.pyplot as plt\n",
    "\n",
    "%matplotlib inline"
   ]
  },
  {
   "cell_type": "code",
   "execution_count": 2,
   "id": "8e1dd1bb-c5d4-4b4f-a8b4-b60ebdb1f9c6",
   "metadata": {},
   "outputs": [
    {
     "data": {
      "text/plain": [
       "NpzFile 'tiny_nerf_data.npz' with keys: images, poses, focal"
      ]
     },
     "execution_count": 2,
     "metadata": {},
     "output_type": "execute_result"
    }
   ],
   "source": [
    "# Load input images, poses, and intrinsics\n",
    "data = np.load(\"tiny_nerf_data.npz\")\n",
    "data"
   ]
  },
  {
   "cell_type": "code",
   "execution_count": 3,
   "id": "2c548dd4-2b8e-40e8-be73-3efb851ce1ee",
   "metadata": {},
   "outputs": [],
   "source": [
    "def resize_to(images, height, width):\n",
    "    # images: (B, old_H, old_W, C)\n",
    "\n",
    "    # (B, C, old_H, old_W)\n",
    "    images = images.permute(0, 3, 1, 2)\n",
    "\n",
    "    transform = tv.transforms.Compose([\n",
    "        tv.transforms.Resize((height, width))\n",
    "    ])\n",
    "\n",
    "    # (B, C, new_H, new_W)\n",
    "    resized_images = torch.stack([\n",
    "        # (C, new_H, new_W)\n",
    "        transform(image)\n",
    "        for image in images\n",
    "    ])\n",
    "\n",
    "    # (B, new_H, new_W, C)\n",
    "    resized_images = resized_images.permute(0, 2, 3, 1)\n",
    "\n",
    "    return resized_images\n"
   ]
  },
  {
   "cell_type": "code",
   "execution_count": 4,
   "id": "014012ae-7a46-493b-83dd-87669ed7f846",
   "metadata": {},
   "outputs": [
    {
     "name": "stdout",
     "output_type": "stream",
     "text": [
      "torch.Size([106, 32, 32, 3])\n",
      "torch.Size([106, 4, 4])\n",
      "tensor(44.4444, dtype=torch.float64)\n"
     ]
    }
   ],
   "source": [
    "images = data['images']\n",
    "poses = data['poses']\n",
    "focal_length = data['focal']\n",
    "\n",
    "# Images\n",
    "# (B, H, W, C)\n",
    "images = torch.from_numpy(images)\n",
    "images = resize_to(images, 32, 32)\n",
    "# Camera extrinsics (poses)\n",
    "poses = torch.from_numpy(poses)\n",
    "# Focal length (intrinsics)\n",
    "focal_length = torch.from_numpy(focal_length)\n",
    "# Rescale focal length\n",
    "focal_length = focal_length * 32.0 / 100.0\n",
    "\n",
    "print(images.shape)\n",
    "print(poses.shape)\n",
    "print(focal_length)\n",
    "\n",
    "height, width = images.shape[1:3]"
   ]
  },
  {
   "cell_type": "code",
   "execution_count": null,
   "id": "be4a344e-2055-48d1-be1c-40f22cfe4bb7",
   "metadata": {},
   "outputs": [],
   "source": []
  },
  {
   "cell_type": "code",
   "execution_count": null,
   "id": "85983073-391c-406b-95a4-c46bb6d58d18",
   "metadata": {},
   "outputs": [],
   "source": []
  },
  {
   "cell_type": "code",
   "execution_count": null,
   "id": "1716f93f-e73e-4af7-a003-609e3261e47a",
   "metadata": {},
   "outputs": [],
   "source": []
  },
  {
   "cell_type": "code",
   "execution_count": 5,
   "id": "1d0c5d8a-5b95-4298-b69e-556b36cb26d4",
   "metadata": {},
   "outputs": [],
   "source": [
    "def nf_get_ray_bundle(\n",
    "    height: int,\n",
    "    width: int,\n",
    "    focal_length: torch.Tensor,\n",
    "    pose: torch.Tensor\n",
    "):\n",
    "    points_x, points_y = torch.meshgrid(\n",
    "        torch.arange(width),\n",
    "        torch.arange(height),\n",
    "        indexing='xy'\n",
    "    )\n",
    "\n",
    "    points_x = (points_x - width / 2.0) / focal_length\n",
    "    # Note the -ve here, y in grid increases downwards while\n",
    "    # y in NDC increases upwards\n",
    "    points_y = -(points_y - height / 2.0) / focal_length\n",
    "    points_z = -tr.ones_like(points_x)\n",
    "\n",
    "    ray_dirs = tr.stack(\n",
    "        (\n",
    "            points_x,\n",
    "            points_y,\n",
    "            points_z,\n",
    "        ),\n",
    "        dim=-1\n",
    "    )\n",
    "\n",
    "    ray_dirs = F.normalize(ray_dirs, dim=-1)\n",
    "\n",
    "    transform_rot = pose[:3, :3]\n",
    "    ray_dirs = ray_dirs @ transform_rot.T\n",
    "\n",
    "    ray_origins = pose[:3, -1].expand(ray_dirs.shape)\n",
    "\n",
    "    return ray_origins, ray_dirs\n"
   ]
  },
  {
   "cell_type": "code",
   "execution_count": 6,
   "id": "99a54862-3abe-468c-966a-80f55a0ff37e",
   "metadata": {},
   "outputs": [],
   "source": [
    "def nf_create_query_points(\n",
    "    # (H, W, 3)\n",
    "    ray_origins: torch.Tensor,\n",
    "    # (H, W, 3)\n",
    "    ray_dirs: torch.Tensor,\n",
    "    thresh_near: float,\n",
    "    thresh_far: float,\n",
    "    num_samples_per_ray: int,\n",
    "):\n",
    "    # TODO: randomize\n",
    "\n",
    "    # (N,)\n",
    "    depths = torch.linspace(thresh_near, thresh_far, num_samples_per_ray)\n",
    "\n",
    "    # (H, W, N, 3)\n",
    "    query_points = (\n",
    "        ray_origins[..., None, :]\n",
    "        + ray_dirs[..., None, :] * depths[:, None]\n",
    "    )\n",
    "\n",
    "    return query_points, depths\n"
   ]
  },
  {
   "cell_type": "code",
   "execution_count": 7,
   "id": "460d2777-445d-444b-a71e-37c0ca804076",
   "metadata": {},
   "outputs": [],
   "source": [
    "def cumprod_exclusive(tensor: torch.Tensor) -> torch.Tensor:\n",
    "    cumprod = torch.cumprod(tensor, dim=-1)\n",
    "    cumprod = torch.roll(cumprod, 1, dims=-1)\n",
    "    cumprod[..., 0] = 1.\n",
    "    return cumprod"
   ]
  },
  {
   "cell_type": "code",
   "execution_count": 8,
   "id": "ae306159-ba62-431a-8901-50c8a1c1fb39",
   "metadata": {},
   "outputs": [],
   "source": [
    "def nf_render_view(\n",
    "    # (H, W, N, 4)\n",
    "    view_field: torch.Tensor,\n",
    "    # (N,) or (H, W, N)\n",
    "    depths: torch.Tensor,\n",
    "):\n",
    "    # (H, W, N, 3)\n",
    "    rgb_field = view_field[..., :3]\n",
    "    # (H, W, N)\n",
    "    sigma_field = view_field[..., 3]\n",
    "\n",
    "    rgb_field = F.sigmoid(rgb_field)\n",
    "    sigma_field = F.relu(sigma_field)\n",
    "\n",
    "    # (*, N - 1)\n",
    "    deltas = depths[..., 1:] - depths[..., :-1]\n",
    "\n",
    "    # (*, N)\n",
    "    deltas = torch.cat(\n",
    "        (\n",
    "            # (*, N - 1)\n",
    "            deltas,\n",
    "            # (*, 1)\n",
    "            torch.tensor([1e10]).expand(deltas[..., :1].shape)\n",
    "        ),\n",
    "        dim=-1\n",
    "    )\n",
    "\n",
    "    # (H, W, N)\n",
    "    alpha = 1. - torch.exp(-sigma_field * deltas)\n",
    "    # (H, W, N)\n",
    "    weights = alpha * cumprod_exclusive(1. - alpha + 1e-10)\n",
    "\n",
    "    # (H, W, N, 3)\n",
    "    rgb_map_points = (\n",
    "      # (H, W, N, 1)\n",
    "      weights[..., None]\n",
    "      *\n",
    "      # (H, W, N, 3)\n",
    "      rgb_field\n",
    "    )\n",
    "\n",
    "    # (H, W, 3)\n",
    "    rgb_map = rgb_map_points.sum(dim=-2)\n",
    "\n",
    "    return rgb_map\n",
    "\n"
   ]
  },
  {
   "cell_type": "code",
   "execution_count": 9,
   "id": "d6cff157-9d8e-4c0b-8913-05d03abf8924",
   "metadata": {},
   "outputs": [],
   "source": [
    "def positional_encoding(\n",
    "    # (*, D (3))\n",
    "    points,\n",
    "    L=6,\n",
    "):\n",
    "    encoding = [points]\n",
    "\n",
    "    freqs = 2.0 ** torch.linspace(0.0, L - 1, L)\n",
    "\n",
    "    for freq in freqs:\n",
    "        encoding.append(torch.sin(points * freq))\n",
    "        encoding.append(torch.cos(points * freq))\n",
    "\n",
    "    if len(encoding) == 1:\n",
    "        return encoding[0]\n",
    "    else:\n",
    "        return torch.cat(encoding, dim=-1)\n",
    "\n",
    "\n",
    "def split_points_into_chunks(\n",
    "    # (B, L)\n",
    "    points: torch.Tensor,\n",
    "    chunk_size: int\n",
    "):\n",
    "    return [\n",
    "        points[i:i + chunk_size]\n",
    "        for i in range(0, points.shape[0], chunk_size)\n",
    "    ]"
   ]
  },
  {
   "cell_type": "code",
   "execution_count": 10,
   "id": "ef62d96e-3939-41ba-9f91-22dd2d1cd0dd",
   "metadata": {},
   "outputs": [],
   "source": [
    "def nf_render_pose(\n",
    "    model: torch.nn.Module,\n",
    "    height: int,\n",
    "    width: int,\n",
    "    focal_length: torch.Tensor,\n",
    "    pose: torch.Tensor,\n",
    "    thresh_near: int,\n",
    "    thresh_far: int,\n",
    "    num_samples_per_ray: int,\n",
    "    chunk_size: int,\n",
    "):\n",
    "\n",
    "    # Create rays\n",
    "    ray_origins, ray_dirs = nf_get_ray_bundle(\n",
    "        height,\n",
    "        width,\n",
    "        focal_length,\n",
    "        pose\n",
    "    )\n",
    "\n",
    "    # Create query points\n",
    "    query_points, depths = nf_create_query_points(\n",
    "        ray_origins,\n",
    "        ray_dirs,\n",
    "        thresh_near,\n",
    "        thresh_far,\n",
    "        num_samples_per_ray,\n",
    "    )\n",
    "\n",
    "    # pass query points to model\n",
    "    \"\"\"\n",
    "    model: (B, 3) -> (B, 4)\n",
    "    \"\"\"\n",
    "\n",
    "    # (H, W, N, 3)\n",
    "    # query_points\n",
    "\n",
    "    # ============ create input ============\n",
    "\n",
    "    # (H*W*N, 3)\n",
    "    flat_query_points = query_points.view(-1, 3)\n",
    "    # (H*W*N, Lx)\n",
    "    flat_query_points = positional_encoding(flat_query_points)\n",
    "\n",
    "    # (H, W, N, Ld)\n",
    "    rd_per_point = ray_dirs[..., None, :].expand(query_points.shape)\n",
    "    # (H*W*N, Ld)\n",
    "    flat_rd_per_point = rd_per_point.reshape(-1, 3)\n",
    "    flat_rd_per_point = positional_encoding(flat_rd_per_point)\n",
    "\n",
    "    flat_inputs = torch.cat([flat_query_points, flat_rd_per_point], dim=-1)\n",
    "\n",
    "    # ============ call model  ============\n",
    "\n",
    "    # convert flat_inputs to chunks\n",
    "    chunks = split_points_into_chunks(flat_inputs, chunk_size)\n",
    "    outputs = []\n",
    "\n",
    "    for chunk in chunks:\n",
    "        # (Bi, 4)\n",
    "        chunk_view_field = model(chunk)\n",
    "        outputs.append(chunk_view_field)\n",
    "\n",
    "    # (H*W*N, 4)\n",
    "    flat_view_field = torch.cat(outputs, dim=0)\n",
    "\n",
    "    # create view (radiance field)\n",
    "    # (H, W, N, 4)\n",
    "    view_field = flat_view_field.view(\n",
    "        list(query_points.shape[:-1]) + [-1]\n",
    "    )\n",
    "\n",
    "    rgb_map = nf_render_view(\n",
    "        view_field,\n",
    "        depths   \n",
    "    )\n",
    "\n",
    "    return rgb_map"
   ]
  },
  {
   "cell_type": "code",
   "execution_count": 11,
   "id": "e73d78f0-8c11-4c00-b11a-a941332c04b2",
   "metadata": {},
   "outputs": [],
   "source": [
    "class VeryTinyNerfModel(torch.nn.Module):\n",
    "    def __init__(\n",
    "        self,\n",
    "        filter_size=128,\n",
    "        num_encoding_functions=6\n",
    "    ):\n",
    "\n",
    "        super(VeryTinyNerfModel, self).__init__()\n",
    "        # Input layer (default: 39 -> 128)\n",
    "        self.layer1 = torch.nn.Linear(\n",
    "            3 + 3 * 2 * num_encoding_functions + 3 + 3 * 2 * num_encoding_functions,\n",
    "            filter_size)\n",
    "        # Layer 2 (default: 128 -> 128)\n",
    "        self.layer2 = torch.nn.Linear(filter_size, filter_size)\n",
    "        # Layer 3 (default: 128 -> 4)\n",
    "        self.layer3 = torch.nn.Linear(filter_size, 4)\n",
    "        # Short hand for torch.nn.functional.relu\n",
    "        self.relu = torch.nn.functional.relu\n",
    "\n",
    "    def forward(self, x):\n",
    "        x = self.relu(self.layer1(x))\n",
    "        x = self.relu(self.layer2(x))\n",
    "        x = self.layer3(x)\n",
    "        return x\n"
   ]
  },
  {
   "cell_type": "code",
   "execution_count": 12,
   "id": "62f28529-4ad9-4df1-a94a-a90567329707",
   "metadata": {},
   "outputs": [],
   "source": [
    "model = VeryTinyNerfModel()"
   ]
  },
  {
   "cell_type": "code",
   "execution_count": 13,
   "id": "b83d39a0-0614-4900-a836-df6ff60d3fce",
   "metadata": {},
   "outputs": [],
   "source": [
    "def predict(pose: torch.Tensor):\n",
    "    return nf_render_pose(\n",
    "        model,\n",
    "        height,\n",
    "        width,\n",
    "        focal_length,\n",
    "        pose=pose,\n",
    "        thresh_near=2,\n",
    "        thresh_far=6,\n",
    "        num_samples_per_ray=32,\n",
    "        chunk_size=8096,\n",
    "    )"
   ]
  },
  {
   "cell_type": "code",
   "execution_count": 34,
   "id": "8386b3d3-e6c9-4307-ac94-f7e44b4df310",
   "metadata": {},
   "outputs": [],
   "source": [
    "optimizer = torch.optim.Adam(model.parameters(), lr=1e-2)"
   ]
  },
  {
   "cell_type": "code",
   "execution_count": 35,
   "id": "c81d8cbe-9966-4094-be89-83fbb1c77cbf",
   "metadata": {},
   "outputs": [
    {
     "name": "stdout",
     "output_type": "stream",
     "text": [
      "0: 0.0010004137875512242\n",
      "100: 0.0019964210223406553\n",
      "200: 0.0010489249834790826\n",
      "300: 0.00407030712813139\n",
      "400: 0.001978697022423148\n",
      "500: 0.001117601990699768\n",
      "600: 0.0009621563367545605\n",
      "700: 0.0006725031416863203\n",
      "800: 0.0012198756448924541\n",
      "900: 0.0011311330599710345\n"
     ]
    }
   ],
   "source": [
    "# Train\n",
    "for i in range(1000):\n",
    "    # idx = torch.randint(images.shape[0], (1,)).item()\n",
    "    idx = i % images.shape[0]\n",
    "    target_pose = poses[idx]\n",
    "    # (H, W, 3)\n",
    "    target_image = images[idx]\n",
    "    \n",
    "    # (H, W, 3)\n",
    "    image_predicted = predict(target_pose)\n",
    "\n",
    "    loss = F.mse_loss(image_predicted, target_image)\n",
    "\n",
    "    if i % 100 == 0:\n",
    "        print(f\"{i}: {loss.item()}\") \n",
    "    \n",
    "    optimizer.zero_grad()\n",
    "    loss.backward()\n",
    "    optimizer.step()"
   ]
  },
  {
   "cell_type": "code",
   "execution_count": 38,
   "id": "018891a9-4d3f-4bd9-9683-d19ed2ae06b8",
   "metadata": {},
   "outputs": [
    {
     "data": {
      "text/plain": [
       "<matplotlib.image.AxesImage at 0x7d6d84733530>"
      ]
     },
     "execution_count": 38,
     "metadata": {},
     "output_type": "execute_result"
    },
    {
     "data": {
      "image/png": "[encoded data removed]",
      "text/plain": [
       "<Figure size 800x400 with 2 Axes>"
      ]
     },
     "metadata": {},
     "output_type": "display_data"
    }
   ],
   "source": [
    "test_idx = torch.randint(images.shape[0], (1,)).item()\n",
    "# test_idx = 17\n",
    "\n",
    "plt.figure(figsize=(8,4))\n",
    "\n",
    "predicted = predict(poses[test_idx]).detach()\n",
    "plt.subplot(1,2,1)\n",
    "plt.imshow(predicted)\n",
    "\n",
    "plt.subplot(1,2,2)\n",
    "plt.imshow(images[test_idx])"
   ]
  },
  {
   "cell_type": "code",
   "execution_count": null,
   "id": "f71b5048-080a-47f5-9fb4-95fce1e91ab0",
   "metadata": {},
   "outputs": [],
   "source": [
    "# torch.save({'model_state': model.state_dict()},'checkpoints/001.chk')"
   ]
  },
  {
   "cell_type": "code",
   "execution_count": 17,
   "id": "19479ccf-e8ef-47ce-ba6a-09c8ab2c36be",
   "metadata": {},
   "outputs": [],
   "source": [
    "# checkpoint = torch.load('checkpoints/001.chk')\n",
    "# model.load_state_dict(checkpoint['model_state'])"
   ]
  },
  {
   "cell_type": "code",
   "execution_count": 22,
   "id": "7fa38c9a-209c-4822-9bb1-36b18815ea1e",
   "metadata": {},
   "outputs": [],
   "source": [
    "def generate_random_angles():\n",
    "    # Generate random theta between -90 and 90 degrees (pitch)\n",
    "    theta = torch.rand(1) * 180 - 90  # Random value between -90 and 90\n",
    "    \n",
    "    # Generate random phi between 0 and 360 degrees (yaw)\n",
    "    phi = torch.rand(1) * 360  # Random value between 0 and 360\n",
    "\n",
    "    return theta.item(), phi.item()\n",
    "\n",
    "\n",
    "def rot(theta, phi):\n",
    "    theta = torch.tensor(theta) * (torch.pi / 180)\n",
    "    phi = torch.tensor(phi) * (torch.pi / 180)\n",
    "\n",
    "    R_x = torch.tensor([[1, 0, 0],\n",
    "                        [0, torch.cos(theta), -torch.sin(theta)],\n",
    "                        [0, torch.sin(theta), torch.cos(theta)]])\n",
    "\n",
    "    R_y = torch.tensor([[torch.cos(phi), 0, torch.sin(phi)],\n",
    "                        [0, 1, 0],\n",
    "                        [-torch.sin(phi), 0, torch.cos(phi)]])\n",
    "\n",
    "    return torch.matmul(R_y, R_x)"
   ]
  },
  {
   "cell_type": "code",
   "execution_count": 69,
   "id": "e539143b-f9cb-43b6-a70c-efaa91be24fe",
   "metadata": {},
   "outputs": [
    {
     "name": "stdout",
     "output_type": "stream",
     "text": [
      "-17.224510192871094 33.91269302368164\n"
     ]
    },
    {
     "data": {
      "text/plain": [
       "<matplotlib.image.AxesImage at 0x7d6d7fcb0d70>"
      ]
     },
     "execution_count": 69,
     "metadata": {},
     "output_type": "execute_result"
    },
    {
     "data": {
      "image/png": "[encoded data removed]",
      "text/plain": [
       "<Figure size 640x480 with 1 Axes>"
      ]
     },
     "metadata": {},
     "output_type": "display_data"
    }
   ],
   "source": [
    "theta, phi = generate_random_angles()\n",
    "print(theta, phi)\n",
    "\n",
    "radius = 4\n",
    "cam_rot = rot(theta, phi)\n",
    "cam_backwards = cam_rot[:, -1]\n",
    "cam_pos = radius * cam_backwards\n",
    "\n",
    "fakepose = torch.eye(4)\n",
    "fakepose[:3, :3] = cam_rot\n",
    "fakepose[:3, -1] = cam_pos\n",
    "\n",
    "plt.imshow(predict(fakepose).detach())"
   ]
  }
 ],
 "metadata": {
  "kernelspec": {
   "display_name": "Python 3 (ipykernel)",
   "language": "python",
   "name": "python3"
  },
  "language_info": {
   "codemirror_mode": {
    "name": "ipython",
    "version": 3
   },
   "file_extension": ".py",
   "mimetype": "text/x-python",
   "name": "python",
   "nbconvert_exporter": "python",
   "pygments_lexer": "ipython3",
   "version": "3.12.7"
  }
 },
 "nbformat": 4,
 "nbformat_minor": 5
}
