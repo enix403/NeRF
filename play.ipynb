{
 "cells": [
  {
   "cell_type": "code",
   "execution_count": 20,
   "id": "e94c6dc8-bfbc-4482-8131-05af69041bab",
   "metadata": {},
   "outputs": [],
   "source": [
    "import torch\n",
    "import torch as tr"
   ]
  },
  {
   "cell_type": "code",
   "execution_count": 2,
   "id": "47a9091f-81e1-46cf-a7ca-58dc09bf0f98",
   "metadata": {},
   "outputs": [],
   "source": [
    "x = torch.tensor([4, 1, 8])\n",
    "y = torch.tensor([2, 9, 3, 5, 7])"
   ]
  },
  {
   "cell_type": "code",
   "execution_count": null,
   "id": "595fe583-300e-45cf-8c54-1642074be399",
   "metadata": {},
   "outputs": [],
   "source": []
  }
 ],
 "metadata": {
  "kernelspec": {
   "display_name": "Python 3 (ipykernel)",
   "language": "python",
   "name": "python3"
  },
  "language_info": {
   "codemirror_mode": {
    "name": "ipython",
    "version": 3
   },
   "file_extension": ".py",
   "mimetype": "text/x-python",
   "name": "python",
   "nbconvert_exporter": "python",
   "pygments_lexer": "ipython3",
   "version": "3.12.7"
  }
 },
 "nbformat": 4,
 "nbformat_minor": 5
}
